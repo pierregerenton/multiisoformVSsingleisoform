{
 "cells": [
  {
   "cell_type": "markdown",
   "metadata": {},
   "source": [
    "## Perform a GO enrichment analysis with GOATOOLS"
   ]
  },
  {
   "cell_type": "code",
   "execution_count": 24,
   "metadata": {},
   "outputs": [],
   "source": [
    "import pandas as pd  # use data frame\n",
    "import collections as cx  # use Counter\n",
    "from goatools.obo_parser import GODag  # parse the .obo file (with GO ontology)\n",
    "from goatools.anno.genetogo_reader import Gene2GoReader  # parse NCBI gene2go file\n",
    "from goatools.goea.go_enrichment_ns import GOEnrichmentStudyNS  # perform enrichment\n",
    "from goatools.godag_plot import plot_gos, plot_results, plot_goid2goobj  # ploting"
   ]
  },
  {
   "cell_type": "markdown",
   "metadata": {},
   "source": [
    "To do a GOEA, we need :\n",
    "- a list of gene as background\n",
    "- a list of gene to study\n",
    "- a list of GO term\n",
    "- a table of correspondance between gene ID and GO term\n",
    "\n",
    "And, because GOATOOLS use NCBI Gene ID :\n",
    "- a table of correspondance between NCBI Gene ID and Ensembl Gene ID"
   ]
  },
  {
   "cell_type": "markdown",
   "metadata": {},
   "source": [
    "### Preparation of our gene background and gene list"
   ]
  },
  {
   "cell_type": "code",
   "execution_count": 2,
   "metadata": {},
   "outputs": [],
   "source": [
    "similarity_table = pd.read_csv('../../res/exhaustive.similarity.txt', sep='\\t')\n",
    "ensembl2ncbi_df = pd.read_csv('../../data/gene2ensembl.gz', sep='\\t', compression='gzip')"
   ]
  },
  {
   "cell_type": "code",
   "execution_count": 5,
   "metadata": {},
   "outputs": [],
   "source": [
    "ensembl2ncbi_dict = dict(zip(ensembl2ncbi_df['Ensembl_gene_identifier'], ensembl2ncbi_df['GeneID']))"
   ]
  },
  {
   "cell_type": "code",
   "execution_count": 10,
   "metadata": {},
   "outputs": [
    {
     "name": "stdout",
     "output_type": "stream",
     "text": [
      "19202/19204 used as background\n"
     ]
    }
   ],
   "source": [
    "background = similarity_table['gene_id'].tolist()\n",
    "nb_gene_available = len(background)\n",
    "background = [ensembl2ncbi_dict[ensembl_id] for ensembl_id in background if ensembl_id in ensembl2ncbi_dict]\n",
    "nb_gene_found = len(background)\n",
    "print(f\"{nb_gene_found}/{nb_gene_available} used as background\")"
   ]
  },
  {
   "cell_type": "code",
   "execution_count": 11,
   "metadata": {},
   "outputs": [
    {
     "name": "stdout",
     "output_type": "stream",
     "text": [
      "523/524 used as gene_list\n"
     ]
    }
   ],
   "source": [
    "gene_list = similarity_table['gene_id'][similarity_table['BP_similarity_longest'] < 0.9].tolist()\n",
    "nb_gene_available = len(gene_list)\n",
    "gene_list = [ensembl2ncbi_dict[ensembl_id] for ensembl_id in gene_list if ensembl_id in ensembl2ncbi_dict]\n",
    "nb_gene_found = len(gene_list)\n",
    "print(f\"{nb_gene_found}/{nb_gene_available} used as gene_list\")"
   ]
  },
  {
   "cell_type": "markdown",
   "metadata": {},
   "source": [
    "### Preparation of GOATOOLS"
   ]
  },
  {
   "cell_type": "code",
   "execution_count": 12,
   "metadata": {},
   "outputs": [
    {
     "name": "stdout",
     "output_type": "stream",
     "text": [
      "../../data/go-basic.obo: fmt(1.2) rel(2024-01-17) 45,869 Terms\n"
     ]
    }
   ],
   "source": [
    "obo_dag = GODag(\"../../data/go-basic.obo\")  # no obsolete"
   ]
  },
  {
   "cell_type": "code",
   "execution_count": 16,
   "metadata": {},
   "outputs": [
    {
     "name": "stdout",
     "output_type": "stream",
     "text": [
      "HMS:0:01:10.668344 346,071 annotations, 20,759 genes, 18,733 GOs, 1 taxids READ: ../../data/gene2go \n"
     ]
    }
   ],
   "source": [
    "gene2go = Gene2GoReader('../../data/gene2go', taxids=[9606])"
   ]
  },
  {
   "cell_type": "code",
   "execution_count": 17,
   "metadata": {},
   "outputs": [],
   "source": [
    "ns2assoc = gene2go.get_ns2assc()"
   ]
  },
  {
   "cell_type": "code",
   "execution_count": 18,
   "metadata": {},
   "outputs": [
    {
     "name": "stdout",
     "output_type": "stream",
     "text": [
      "\n",
      "Load BP Ontology Enrichment Analysis ...\n",
      " 88% 16,856 of 19,202 population items found in association\n",
      "\n",
      "Load CC Ontology Enrichment Analysis ...\n",
      " 93% 17,936 of 19,202 population items found in association\n",
      "\n",
      "Load MF Ontology Enrichment Analysis ...\n",
      " 91% 17,411 of 19,202 population items found in association\n"
     ]
    }
   ],
   "source": [
    "goea_obj = GOEnrichmentStudyNS(\n",
    "    pop = background,\n",
    "    ns2assoc = ns2assoc,\n",
    "    godag = obo_dag,\n",
    "    propagate_counts = False,\n",
    "    alpha = 0.05,\n",
    "    methods = ['fdr_bh']\n",
    ")"
   ]
  },
  {
   "cell_type": "markdown",
   "metadata": {},
   "source": [
    "### Run Analysis"
   ]
  },
  {
   "cell_type": "code",
   "execution_count": 19,
   "metadata": {},
   "outputs": [
    {
     "name": "stdout",
     "output_type": "stream",
     "text": [
      "\n",
      "Runing BP Ontology Analysis: current study set of 523 IDs.\n",
      " 99%    517 of    523 study items found in association\n",
      "100%    523 of    523 study items found in population(19202)\n",
      "Calculating 12,165 uncorrected p-values using fisher_scipy_stats\n",
      "  12,165 terms are associated with 16,856 of 19,202 population items\n",
      "   2,406 terms are associated with    517 of    523 study items\n",
      "  METHOD fdr_bh:\n",
      "       4 GO terms found significant (< 0.05=alpha) (  4 enriched +   0 purified): statsmodels fdr_bh\n",
      "      51 study items associated with significant GO IDs (enriched)\n",
      "       0 study items associated with significant GO IDs (purified)\n",
      "\n",
      "Runing CC Ontology Analysis: current study set of 523 IDs.\n",
      " 98%    515 of    523 study items found in association\n",
      "100%    523 of    523 study items found in population(19202)\n",
      "Calculating 1,799 uncorrected p-values using fisher_scipy_stats\n",
      "   1,799 terms are associated with 17,936 of 19,202 population items\n",
      "     519 terms are associated with    515 of    523 study items\n",
      "  METHOD fdr_bh:\n",
      "      21 GO terms found significant (< 0.05=alpha) ( 21 enriched +   0 purified): statsmodels fdr_bh\n",
      "     418 study items associated with significant GO IDs (enriched)\n",
      "       0 study items associated with significant GO IDs (purified)\n",
      "\n",
      "Runing MF Ontology Analysis: current study set of 523 IDs.\n",
      " 98%    510 of    523 study items found in association\n",
      "100%    523 of    523 study items found in population(19202)\n",
      "Calculating 4,593 uncorrected p-values using fisher_scipy_stats\n",
      "   4,593 terms are associated with 17,411 of 19,202 population items\n",
      "     718 terms are associated with    510 of    523 study items\n",
      "  METHOD fdr_bh:\n",
      "       7 GO terms found significant (< 0.05=alpha) (  5 enriched +   2 purified): statsmodels fdr_bh\n",
      "     426 study items associated with significant GO IDs (enriched)\n",
      "       1 study items associated with significant GO IDs (purified)\n"
     ]
    }
   ],
   "source": [
    "goea_result = goea_obj.run_study(gene_list)"
   ]
  },
  {
   "cell_type": "code",
   "execution_count": 20,
   "metadata": {},
   "outputs": [],
   "source": [
    "goea_result_sig = [r for r in goea_result if r.p_fdr_bh < 0.05]"
   ]
  },
  {
   "cell_type": "markdown",
   "metadata": {},
   "source": [
    "### Ploting and writing results"
   ]
  },
  {
   "cell_type": "code",
   "execution_count": 22,
   "metadata": {},
   "outputs": [
    {
     "name": "stdout",
     "output_type": "stream",
     "text": [
      "32 of 18,557 results were significant\n"
     ]
    }
   ],
   "source": [
    "print('{N} of {M:,} results were significant'.format(\n",
    "    N=len(goea_result_sig),\n",
    "    M=len(goea_result)))"
   ]
  },
  {
   "cell_type": "code",
   "execution_count": 23,
   "metadata": {},
   "outputs": [
    {
     "name": "stdout",
     "output_type": "stream",
     "text": [
      "Significant results: 30 enriched, 2 purified\n"
     ]
    }
   ],
   "source": [
    "print('Significant results: {E} enriched, {P} purified'.format(\n",
    "    E=sum(1 for r in goea_result_sig if r.enrichment=='e'),\n",
    "    P=sum(1 for r in goea_result_sig if r.enrichment=='p')))\n"
   ]
  },
  {
   "cell_type": "code",
   "execution_count": 27,
   "metadata": {},
   "outputs": [
    {
     "name": "stdout",
     "output_type": "stream",
     "text": [
      "Significant results[32] = 4 BP + 7 MF + 21 CC\n"
     ]
    }
   ],
   "source": [
    "ctr = cx.Counter([r.NS for r in goea_result_sig])\n",
    "print('Significant results[{TOTAL}] = {BP} BP + {MF} MF + {CC} CC'.format(\n",
    "    TOTAL=len(goea_result_sig),\n",
    "    BP=ctr['BP'],  # biological_process\n",
    "    MF=ctr['MF'],  # molecular_function\n",
    "    CC=ctr['CC'])) # cellular_component"
   ]
  },
  {
   "cell_type": "code",
   "execution_count": 29,
   "metadata": {},
   "outputs": [
    {
     "name": "stdout",
     "output_type": "stream",
     "text": [
      "     32 items WROTE: goea_results.tsv\n",
      "    4 usr  34 GOs  WROTE: sig_BP.png\n",
      "   21 usr  46 GOs  WROTE: sig_CC.png\n",
      "    7 usr  20 GOs  WROTE: sig_MF.png\n"
     ]
    }
   ],
   "source": [
    "goea_obj.wr_tsv(\"goea_results.tsv\", goea_result_sig)\n",
    "plot_results(\"sig_{NS}.png\", goea_result_sig)"
   ]
  }
 ],
 "metadata": {
  "kernelspec": {
   "display_name": "Python 3",
   "language": "python",
   "name": "python3"
  },
  "language_info": {
   "codemirror_mode": {
    "name": "ipython",
    "version": 3
   },
   "file_extension": ".py",
   "mimetype": "text/x-python",
   "name": "python",
   "nbconvert_exporter": "python",
   "pygments_lexer": "ipython3",
   "version": "3.10.12"
  }
 },
 "nbformat": 4,
 "nbformat_minor": 2
}
