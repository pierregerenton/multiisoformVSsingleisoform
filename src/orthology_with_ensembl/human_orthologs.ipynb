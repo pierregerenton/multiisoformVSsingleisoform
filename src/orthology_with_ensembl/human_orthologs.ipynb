{
 "cells": [
  {
   "cell_type": "markdown",
   "metadata": {},
   "source": [
    "# Find how many  human gene with low all vs long similarity are orthologs with gene of other species\n",
    "\n",
    "We run pannzer to annotate proeteome as explain in this repo with the genome and annotation (from Ensembl v.104) for :\n",
    "- Human (*Homo sapiens*)\n",
    "- Mouse (*Mus musculus*)\n",
    "- Trout (*Salmo trutta*)\n",
    "- Tilapia (*Oreochromis niloticus*)\n",
    "\n",
    "Then, we compute similarity table with the script `description_table.py`.\n",
    "\n",
    "Then, we ask Ensembl Biomark for orthologeous group with the requests you can find in [`biomart_request.txt`](biomart_request.txt)"
   ]
  },
  {
   "cell_type": "code",
   "execution_count": 1,
   "metadata": {},
   "outputs": [],
   "source": [
    "import pandas as pd\n",
    "import seaborn as sns\n",
    "import numpy as np"
   ]
  },
  {
   "cell_type": "code",
   "execution_count": 2,
   "metadata": {},
   "outputs": [],
   "source": [
    "human_biomart : str = \"human_biomart.txt\"\n",
    "mouse_biomart : str = \"mouse_biomart.txt\"\n",
    "tilapia_biomart : str = \"tilapia_biomart.txt\"\n",
    "trout_biomart : str = \"trout_biomart.txt\"\n",
    "\n",
    "human_similarity : str = \"human.table.similarity.txt\"\n",
    "mouse_similarity : str = \"mouse.table.similarity.txt\"\n",
    "tilapia_similarity : str = \"tilapia.table.similarity.txt\"\n",
    "trout_similarity : str = \"trout.table.similarity.txt\""
   ]
  },
  {
   "cell_type": "code",
   "execution_count": 3,
   "metadata": {},
   "outputs": [],
   "source": [
    "gene2og : dict[str, int] = dict()  # key is a gene id and value is an int, the id of the OG\n",
    "new_group : int = 1"
   ]
  },
  {
   "cell_type": "code",
   "execution_count": 4,
   "metadata": {},
   "outputs": [
    {
     "name": "stdout",
     "output_type": "stream",
     "text": [
      "68533 98464 19\n"
     ]
    }
   ],
   "source": [
    "case_new_og = 0\n",
    "case_single_og = 0\n",
    "case_multi_og = 0\n",
    "\n",
    "with open(human_biomart) as biomart:\n",
    "    biomart.readline()\n",
    "    for line in biomart:\n",
    "        line = line.strip().split('\\t')\n",
    "        line = [item for item in line if item != '']\n",
    "        belong_group = set()  # if a gene is already in a OG, add this OG the this set\n",
    "        for id in line:\n",
    "            if id in gene2og:\n",
    "                belong_group.add(gene2og[id])\n",
    "        \n",
    "        if len(belong_group) == 0:  # all geneID are new, we create an OG and add all gene to this OG\n",
    "            case_new_og += 1\n",
    "            og = new_group\n",
    "            for id in line:\n",
    "                gene2og[id] = og\n",
    "            new_group += 1\n",
    "\n",
    "        elif len(belong_group) == 1:  # if one or multiple geneID come from an already assign OG, assign other ID to this one\n",
    "            case_single_og += 1\n",
    "            og = list(belong_group)[0]\n",
    "            for id in line:\n",
    "                gene2og[id] = og\n",
    "        else:  # if two or more geneID are already assigned to different OG, we arbitrary assign all to one of them and reassign all gene in other OG to the select one\n",
    "            case_multi_og += 1\n",
    "            og = list(belong_group)[0]\n",
    "            belong_group.remove(og)\n",
    "            for id in line:\n",
    "                gene2og[id] = og\n",
    "            for k,v in gene2og.items():\n",
    "                if v in belong_group:\n",
    "                    gene2og[k] = og\n",
    "\n",
    "print(case_new_og,case_single_og,case_multi_og)"
   ]
  },
  {
   "cell_type": "code",
   "execution_count": 5,
   "metadata": {},
   "outputs": [
    {
     "name": "stdout",
     "output_type": "stream",
     "text": [
      "35982 107016 6\n"
     ]
    }
   ],
   "source": [
    "case_new_og = 0\n",
    "case_single_og = 0\n",
    "case_multi_og = 0\n",
    "\n",
    "with open(mouse_biomart) as biomart:\n",
    "    biomart.readline()\n",
    "    for line in biomart:\n",
    "        line = line.strip().split('\\t')\n",
    "        line = [item for item in line if item != '']\n",
    "        belong_group = set()  # if a gene is already in a OG, add this OG the this set\n",
    "        for id in line:\n",
    "            if id in gene2og:\n",
    "                belong_group.add(gene2og[id])\n",
    "        \n",
    "        if len(belong_group) == 0:  # all geneID are new, we create an OG and add all gene to this OG\n",
    "            case_new_og += 1\n",
    "            og = new_group\n",
    "            for id in line:\n",
    "                gene2og[id] = og\n",
    "            new_group += 1\n",
    "\n",
    "        elif len(belong_group) == 1:  # if one or multiple geneID come from an already assign OG, assign other ID to this one\n",
    "            case_single_og += 1\n",
    "            og = list(belong_group)[0]\n",
    "            for id in line:\n",
    "                gene2og[id] = og\n",
    "        else:  # if two or more geneID are already assigned to different OG, we arbitrary assign all to one of them and reassign all gene in other OG to the select one\n",
    "            case_multi_og += 1\n",
    "            og = list(belong_group)[0]\n",
    "            belong_group.remove(og)\n",
    "            for id in line:\n",
    "                gene2og[id] = og\n",
    "            for k,v in gene2og.items():\n",
    "                if v in belong_group:\n",
    "                    gene2og[k] = og\n",
    "\n",
    "print(case_new_og,case_single_og,case_multi_og)"
   ]
  },
  {
   "cell_type": "code",
   "execution_count": 6,
   "metadata": {},
   "outputs": [
    {
     "name": "stdout",
     "output_type": "stream",
     "text": [
      "13717 121187 1\n"
     ]
    }
   ],
   "source": [
    "case_new_og = 0\n",
    "case_single_og = 0\n",
    "case_multi_og = 0\n",
    "\n",
    "with open(tilapia_biomart) as biomart:\n",
    "    biomart.readline()\n",
    "    for line in biomart:\n",
    "        line = line.strip().split('\\t')\n",
    "        line = [item for item in line if item != '']\n",
    "        belong_group = set()  # if a gene is already in a OG, add this OG the this set\n",
    "        for id in line:\n",
    "            if id in gene2og:\n",
    "                belong_group.add(gene2og[id])\n",
    "        \n",
    "        if len(belong_group) == 0:  # all geneID are new, we create an OG and add all gene to this OG\n",
    "            case_new_og += 1\n",
    "            og = new_group\n",
    "            for id in line:\n",
    "                gene2og[id] = og\n",
    "            new_group += 1\n",
    "\n",
    "        elif len(belong_group) == 1:  # if one or multiple geneID come from an already assign OG, assign other ID to this one\n",
    "            case_single_og += 1\n",
    "            og = list(belong_group)[0]\n",
    "            for id in line:\n",
    "                gene2og[id] = og\n",
    "        else:  # if two or more geneID are already assigned to different OG, we arbitrary assign all to one of them and reassign all gene in other OG to the select one\n",
    "            case_multi_og += 1\n",
    "            og = list(belong_group)[0]\n",
    "            belong_group.remove(og)\n",
    "            for id in line:\n",
    "                gene2og[id] = og\n",
    "            for k,v in gene2og.items():\n",
    "                if v in belong_group:\n",
    "                    gene2og[k] = og\n",
    "\n",
    "print(case_new_og,case_single_og,case_multi_og)"
   ]
  },
  {
   "cell_type": "code",
   "execution_count": 7,
   "metadata": {},
   "outputs": [
    {
     "name": "stdout",
     "output_type": "stream",
     "text": [
      "11444 133658 0\n"
     ]
    }
   ],
   "source": [
    "case_new_og = 0\n",
    "case_single_og = 0\n",
    "case_multi_og = 0\n",
    "\n",
    "with open(trout_biomart) as biomart:\n",
    "    biomart.readline()\n",
    "    for line in biomart:\n",
    "        line = line.strip().split('\\t')\n",
    "        line = [item for item in line if item != '']\n",
    "        belong_group = set()  # if a gene is already in a OG, add this OG the this set\n",
    "        for id in line:\n",
    "            if id in gene2og:\n",
    "                belong_group.add(gene2og[id])\n",
    "        \n",
    "        if len(belong_group) == 0:  # all geneID are new, we create an OG and add all gene to this OG\n",
    "            case_new_og += 1\n",
    "            og = new_group\n",
    "            for id in line:\n",
    "                gene2og[id] = og\n",
    "            new_group += 1\n",
    "\n",
    "        elif len(belong_group) == 1:  # if one or multiple geneID come from an already assign OG, assign other ID to this one\n",
    "            case_single_og += 1\n",
    "            og = list(belong_group)[0]\n",
    "            for id in line:\n",
    "                gene2og[id] = og\n",
    "        else:  # if two or more geneID are already assigned to different OG, we arbitrary assign all to one of them and reassign all gene in other OG to the select one\n",
    "            case_multi_og += 1\n",
    "            og = list(belong_group)[0]\n",
    "            belong_group.remove(og)\n",
    "            for id in line:\n",
    "                gene2og[id] = og\n",
    "            for k,v in gene2og.items():\n",
    "                if v in belong_group:\n",
    "                    gene2og[k] = og\n",
    "\n",
    "print(case_new_og,case_single_og,case_multi_og)"
   ]
  },
  {
   "cell_type": "code",
   "execution_count": 8,
   "metadata": {},
   "outputs": [],
   "source": [
    "def get_candidate_gene(similarity_path : str, proportion : float) -> set[str]:\n",
    "    data : pd.DataFrame = pd.read_csv(similarity_path, sep='\\t')\n",
    "    threshold : float = np.nanpercentile(data['BP_similarity_longest'], proportion)\n",
    "    return set(data[data['BP_similarity_longest'] <= threshold]['gene_id'].apply(lambda x: x.split(':')[1]))\n",
    "\n",
    "def get_available_gene(similarity_path : str, proportion : float, all_available_gene : set[str]) -> set[str]:\n",
    "    candidate_gene : set[str] = get_candidate_gene(similarity_path, proportion)\n",
    "    return set.intersection(candidate_gene, all_available_gene)"
   ]
  },
  {
   "cell_type": "code",
   "execution_count": 9,
   "metadata": {},
   "outputs": [],
   "source": [
    "def get_og_from_species(gene_set : set[str], gene2og : dict[str, int]) -> set[int]:\n",
    "    og_set : set[int] = set()\n",
    "    for gene in gene_set:\n",
    "        og_set.add(gene2og[gene])\n",
    "\n",
    "    return og_set\n",
    "\n",
    "def count_species_by_gene(gene_set : list[str], species_og : list[set[int]], gene2og : dict[str, int]) -> list[int]:\n",
    "    data_count : list[int] = []\n",
    "    rset = set()\n",
    "    for gene in gene_set:\n",
    "        og = gene2og[gene]\n",
    "        species_count : int = 0\n",
    "        for species in species_og:\n",
    "            if og in species:\n",
    "                species_count += 1\n",
    "        data_count.append(species_count)\n",
    "            \n",
    "    return data_count"
   ]
  },
  {
   "cell_type": "code",
   "execution_count": 10,
   "metadata": {},
   "outputs": [],
   "source": [
    "def make_graph(ref : str, others : list[str], gene2og : dict[str, int], threshold : int) -> None:\n",
    "    ref_gene_set : set[str] = get_available_gene(ref, threshold, gene2og.keys())\n",
    "    other_gene_set : list[set[str]] = [get_available_gene(other, threshold, gene2og.keys()) for other in others]\n",
    "    other_og_set : list[set[int]] = [get_og_from_species(other, gene2og) for other in other_gene_set]\n",
    "        \n",
    "    data_count = count_species_by_gene(ref_gene_set, other_og_set, gene2og)\n",
    "    count_count = {i: data_count.count(i) for i in set(data_count)}\n",
    "\n",
    "    fig = sns.barplot(x=count_count.keys(),y= count_count.values())\n",
    "    fig.set_xlabel('Number of species with orthologs')\n",
    "    fig.set_ylabel('Gene count')\n",
    "    fig.set_title('Barplot of the number of species with orhotlogous gene for each ref gene with low BP similarity')"
   ]
  },
  {
   "cell_type": "code",
   "execution_count": 11,
   "metadata": {},
   "outputs": [
    {
     "name": "stderr",
     "output_type": "stream",
     "text": [
      "/tmp/ipykernel_60822/2396617037.py:2: DtypeWarning: Columns (0) have mixed types. Specify dtype option on import or set low_memory=False.\n",
      "  data : pd.DataFrame = pd.read_csv(similarity_path, sep='\\t')\n"
     ]
    },
    {
     "data": {
      "image/png": "[encoded data removed]",
      "text/plain": [
       "<Figure size 640x480 with 1 Axes>"
      ]
     },
     "metadata": {},
     "output_type": "display_data"
    }
   ],
   "source": [
    "make_graph(human_similarity, [mouse_similarity, tilapia_similarity, trout_similarity], gene2og, 3)"
   ]
  },
  {
   "cell_type": "code",
   "execution_count": 12,
   "metadata": {},
   "outputs": [
    {
     "name": "stderr",
     "output_type": "stream",
     "text": [
      "/tmp/ipykernel_60822/2396617037.py:2: DtypeWarning: Columns (0) have mixed types. Specify dtype option on import or set low_memory=False.\n",
      "  data : pd.DataFrame = pd.read_csv(similarity_path, sep='\\t')\n"
     ]
    },
    {
     "data": {
      "image/png": "[encoded data removed]",
      "text/plain": [
       "<Figure size 640x480 with 1 Axes>"
      ]
     },
     "metadata": {},
     "output_type": "display_data"
    }
   ],
   "source": [
    "make_graph(human_similarity, [mouse_similarity, tilapia_similarity, trout_similarity], gene2og, 100)"
   ]
  },
  {
   "cell_type": "code",
   "execution_count": null,
   "metadata": {},
   "outputs": [],
   "source": []
  }
 ],
 "metadata": {
  "kernelspec": {
   "display_name": "Python 3",
   "language": "python",
   "name": "python3"
  },
  "language_info": {
   "codemirror_mode": {
    "name": "ipython",
    "version": 3
   },
   "file_extension": ".py",
   "mimetype": "text/x-python",
   "name": "python",
   "nbconvert_exporter": "python",
   "pygments_lexer": "ipython3",
   "version": "3.10.12"
  }
 },
 "nbformat": 4,
 "nbformat_minor": 2
}
