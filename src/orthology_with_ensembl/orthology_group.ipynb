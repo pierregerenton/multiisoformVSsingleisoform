{
 "cells": [
  {
   "cell_type": "markdown",
   "metadata": {},
   "source": [
    "# Find orthology group among gene with low all vs long similarity\n",
    "\n",
    "We run pannzer to annotate proeteome as explain in this repo with the genome and annotation (from Ensembl v.104) for :\n",
    "- Human (*Homo sapiens*)\n",
    "- Mouse (*Mus musculus*)\n",
    "- Trout (*Salmo trutta*)\n",
    "- Tilapia (*Oreochromis niloticus*)\n",
    "\n",
    "Then, we compute similarity table with the script `description_table.py`.\n",
    "\n",
    "Then, we ask Ensembl Biomark for orthologeous group with the requests you can find in [`biomart_request.txt`](biomart_request.txt)"
   ]
  },
  {
   "cell_type": "code",
   "execution_count": 3,
   "metadata": {},
   "outputs": [],
   "source": [
    "import pandas as pd\n",
    "import seaborn as sns\n",
    "import numpy as np"
   ]
  },
  {
   "cell_type": "code",
   "execution_count": 4,
   "metadata": {},
   "outputs": [],
   "source": [
    "human_biomart : str = \"human_biomart.txt\"\n",
    "mouse_biomart : str = \"mouse_biomart.txt\"\n",
    "tilapia_biomart : str = \"tilapia_biomart.txt\"\n",
    "trout_biomart : str = \"trout_biomart.txt\"\n",
    "\n",
    "human_similarity : str = \"human.table.similarity.txt\"\n",
    "mouse_similarity : str = \"mouse.table.similarity.txt\"\n",
    "tilapia_similarity : str = \"tilapia.table.similarity.txt\"\n",
    "trout_similarity : str = \"trout.table.similarity.txt\""
   ]
  },
  {
   "cell_type": "code",
   "execution_count": 5,
   "metadata": {},
   "outputs": [],
   "source": [
    "gene2og : dict[str, int] = dict()  # key is a gene id and value is an int, the id of the OG\n",
    "new_group : int = 1"
   ]
  },
  {
   "cell_type": "code",
   "execution_count": 6,
   "metadata": {},
   "outputs": [
    {
     "name": "stdout",
     "output_type": "stream",
     "text": [
      "68533 98464 19\n"
     ]
    }
   ],
   "source": [
    "case_new_og = 0\n",
    "case_single_og = 0\n",
    "case_multi_og = 0\n",
    "\n",
    "with open(human_biomart) as biomart:\n",
    "    biomart.readline()\n",
    "    for line in biomart:\n",
    "        line = line.strip().split('\\t')\n",
    "        line = [item for item in line if item != '']\n",
    "        belong_group = set()  # if a gene is already in a OG, add this OG the this set\n",
    "        for id in line:\n",
    "            if id in gene2og:\n",
    "                belong_group.add(gene2og[id])\n",
    "        \n",
    "        if len(belong_group) == 0:  # all geneID are new, we create an OG and add all gene to this OG\n",
    "            case_new_og += 1\n",
    "            og = new_group\n",
    "            for id in line:\n",
    "                gene2og[id] = og\n",
    "            new_group += 1\n",
    "\n",
    "        elif len(belong_group) == 1:  # if one or multiple geneID come from an already assign OG, assign other ID to this one\n",
    "            case_single_og += 1\n",
    "            og = list(belong_group)[0]\n",
    "            for id in line:\n",
    "                gene2og[id] = og\n",
    "        else:  # if two or more geneID are already assigned to different OG, we arbitrary assign all to one of them and reassign all gene in other OG to the select one\n",
    "            case_multi_og += 1\n",
    "            og = list(belong_group)[0]\n",
    "            belong_group.remove(og)\n",
    "            for id in line:\n",
    "                gene2og[id] = og\n",
    "            for k,v in gene2og.items():\n",
    "                if v in belong_group:\n",
    "                    gene2og[k] = og\n",
    "\n",
    "print(case_new_og,case_single_og,case_multi_og)"
   ]
  },
  {
   "cell_type": "code",
   "execution_count": 7,
   "metadata": {},
   "outputs": [
    {
     "name": "stdout",
     "output_type": "stream",
     "text": [
      "35982 107016 6\n"
     ]
    }
   ],
   "source": [
    "case_new_og = 0\n",
    "case_single_og = 0\n",
    "case_multi_og = 0\n",
    "\n",
    "with open(mouse_biomart) as biomart:\n",
    "    biomart.readline()\n",
    "    for line in biomart:\n",
    "        line = line.strip().split('\\t')\n",
    "        line = [item for item in line if item != '']\n",
    "        belong_group = set()  # if a gene is already in a OG, add this OG the this set\n",
    "        for id in line:\n",
    "            if id in gene2og:\n",
    "                belong_group.add(gene2og[id])\n",
    "        \n",
    "        if len(belong_group) == 0:  # all geneID are new, we create an OG and add all gene to this OG\n",
    "            case_new_og += 1\n",
    "            og = new_group\n",
    "            for id in line:\n",
    "                gene2og[id] = og\n",
    "            new_group += 1\n",
    "\n",
    "        elif len(belong_group) == 1:  # if one or multiple geneID come from an already assign OG, assign other ID to this one\n",
    "            case_single_og += 1\n",
    "            og = list(belong_group)[0]\n",
    "            for id in line:\n",
    "                gene2og[id] = og\n",
    "        else:  # if two or more geneID are already assigned to different OG, we arbitrary assign all to one of them and reassign all gene in other OG to the select one\n",
    "            case_multi_og += 1\n",
    "            og = list(belong_group)[0]\n",
    "            belong_group.remove(og)\n",
    "            for id in line:\n",
    "                gene2og[id] = og\n",
    "            for k,v in gene2og.items():\n",
    "                if v in belong_group:\n",
    "                    gene2og[k] = og\n",
    "\n",
    "print(case_new_og,case_single_og,case_multi_og)"
   ]
  },
  {
   "cell_type": "code",
   "execution_count": 8,
   "metadata": {},
   "outputs": [
    {
     "name": "stdout",
     "output_type": "stream",
     "text": [
      "13717 121187 1\n"
     ]
    }
   ],
   "source": [
    "case_new_og = 0\n",
    "case_single_og = 0\n",
    "case_multi_og = 0\n",
    "\n",
    "with open(tilapia_biomart) as biomart:\n",
    "    biomart.readline()\n",
    "    for line in biomart:\n",
    "        line = line.strip().split('\\t')\n",
    "        line = [item for item in line if item != '']\n",
    "        belong_group = set()  # if a gene is already in a OG, add this OG the this set\n",
    "        for id in line:\n",
    "            if id in gene2og:\n",
    "                belong_group.add(gene2og[id])\n",
    "        \n",
    "        if len(belong_group) == 0:  # all geneID are new, we create an OG and add all gene to this OG\n",
    "            case_new_og += 1\n",
    "            og = new_group\n",
    "            for id in line:\n",
    "                gene2og[id] = og\n",
    "            new_group += 1\n",
    "\n",
    "        elif len(belong_group) == 1:  # if one or multiple geneID come from an already assign OG, assign other ID to this one\n",
    "            case_single_og += 1\n",
    "            og = list(belong_group)[0]\n",
    "            for id in line:\n",
    "                gene2og[id] = og\n",
    "        else:  # if two or more geneID are already assigned to different OG, we arbitrary assign all to one of them and reassign all gene in other OG to the select one\n",
    "            case_multi_og += 1\n",
    "            og = list(belong_group)[0]\n",
    "            belong_group.remove(og)\n",
    "            for id in line:\n",
    "                gene2og[id] = og\n",
    "            for k,v in gene2og.items():\n",
    "                if v in belong_group:\n",
    "                    gene2og[k] = og\n",
    "\n",
    "print(case_new_og,case_single_og,case_multi_og)"
   ]
  },
  {
   "cell_type": "code",
   "execution_count": 9,
   "metadata": {},
   "outputs": [
    {
     "name": "stdout",
     "output_type": "stream",
     "text": [
      "11444 133658 0\n"
     ]
    }
   ],
   "source": [
    "case_new_og = 0\n",
    "case_single_og = 0\n",
    "case_multi_og = 0\n",
    "\n",
    "with open(trout_biomart) as biomart:\n",
    "    biomart.readline()\n",
    "    for line in biomart:\n",
    "        line = line.strip().split('\\t')\n",
    "        line = [item for item in line if item != '']\n",
    "        belong_group = set()  # if a gene is already in a OG, add this OG the this set\n",
    "        for id in line:\n",
    "            if id in gene2og:\n",
    "                belong_group.add(gene2og[id])\n",
    "        \n",
    "        if len(belong_group) == 0:  # all geneID are new, we create an OG and add all gene to this OG\n",
    "            case_new_og += 1\n",
    "            og = new_group\n",
    "            for id in line:\n",
    "                gene2og[id] = og\n",
    "            new_group += 1\n",
    "\n",
    "        elif len(belong_group) == 1:  # if one or multiple geneID come from an already assign OG, assign other ID to this one\n",
    "            case_single_og += 1\n",
    "            og = list(belong_group)[0]\n",
    "            for id in line:\n",
    "                gene2og[id] = og\n",
    "        else:  # if two or more geneID are already assigned to different OG, we arbitrary assign all to one of them and reassign all gene in other OG to the select one\n",
    "            case_multi_og += 1\n",
    "            og = list(belong_group)[0]\n",
    "            belong_group.remove(og)\n",
    "            for id in line:\n",
    "                gene2og[id] = og\n",
    "            for k,v in gene2og.items():\n",
    "                if v in belong_group:\n",
    "                    gene2og[k] = og\n",
    "\n",
    "print(case_new_og,case_single_og,case_multi_og)"
   ]
  },
  {
   "cell_type": "code",
   "execution_count": 12,
   "metadata": {},
   "outputs": [],
   "source": [
    "def get_candidate_gene(similarity_path : str, proportion : float) -> set[str]:\n",
    "    data : pd.DataFrame = pd.read_csv(similarity_path, sep='\\t')\n",
    "    threshold : float = np.nanpercentile(data['BP_similarity_longest'], proportion)\n",
    "    return set(data[data['BP_similarity_longest'] <= threshold]['gene_id'].apply(lambda x: x.split(':')[1]))\n",
    "\n",
    "def get_available_gene(similarity_path : str, proportion : float, all_available_gene : set[str]) -> set[str]:\n",
    "    candidate_gene : set[str] = get_candidate_gene(similarity_path, proportion)\n",
    "    return set.intersection(candidate_gene, all_available_gene)"
   ]
  },
  {
   "cell_type": "code",
   "execution_count": 13,
   "metadata": {},
   "outputs": [],
   "source": [
    "def count_genes_by_OG(list_genes : list[str], gene2og : dict) -> dict[int, int]:\n",
    "    og2count : dict[int, int] = dict()\n",
    "    for geneid in list_genes:\n",
    "        og : int = gene2og[geneid]\n",
    "        if og in og2count:  # count the number of gene by OG, if the OG already referenced, add 1, else initialize at 1\n",
    "            og2count[og] += 1\n",
    "        else:\n",
    "            og2count[og] = 1\n",
    "    return og2count\n",
    "\n",
    "def count_each_count(count_dict) -> dict[int, int]:\n",
    "    count2count : dict[int, int]= dict()\n",
    "\n",
    "    for count in count_dict.values():\n",
    "        if count in count2count:\n",
    "            count2count[count] += 1\n",
    "        else:\n",
    "            count2count[count] = 1\n",
    "    return count2count\n",
    "\n",
    "\n",
    "def make_graph(list_similarity_path : list[str], gene2og : dict, proportion : float) -> None:\n",
    "\n",
    "    all_genes : list[str] = []\n",
    "    for species in list_similarity_path:\n",
    "        all_genes.extend(get_available_gene(species, proportion, set(gene2og.keys())))\n",
    "    og2count : dict[int, int] = count_genes_by_OG(all_genes, gene2og)\n",
    "    count2count : dict[int, int] = count_each_count(og2count)\n",
    "\n",
    "    fig = sns.barplot(x=count2count.keys(), y=count2count.values())\n",
    "    fig.set_xlabel('Number of gene in OG')\n",
    "    fig.set_ylabel('Count')\n",
    "    fig.set_title('Histogram of the number of gene by OG')"
   ]
  },
  {
   "cell_type": "markdown",
   "metadata": {},
   "source": [
    "## Using 3% of genes with lowest BP similarity"
   ]
  },
  {
   "cell_type": "code",
   "execution_count": 14,
   "metadata": {},
   "outputs": [
    {
     "name": "stderr",
     "output_type": "stream",
     "text": [
      "/tmp/ipykernel_59335/2396617037.py:2: DtypeWarning: Columns (0) have mixed types. Specify dtype option on import or set low_memory=False.\n",
      "  data : pd.DataFrame = pd.read_csv(similarity_path, sep='\\t')\n"
     ]
    },
    {
     "data": {
      "image/png": "[encoded data removed]",
      "text/plain": [
       "<Figure size 640x480 with 1 Axes>"
      ]
     },
     "metadata": {},
     "output_type": "display_data"
    }
   ],
   "source": [
    "similarity_df_list = [human_similarity, mouse_similarity, tilapia_similarity, trout_similarity]\n",
    "make_graph(similarity_df_list, gene2og, 3)"
   ]
  },
  {
   "cell_type": "markdown",
   "metadata": {},
   "source": [
    "## Using all genes"
   ]
  },
  {
   "cell_type": "code",
   "execution_count": 15,
   "metadata": {},
   "outputs": [
    {
     "name": "stderr",
     "output_type": "stream",
     "text": [
      "/tmp/ipykernel_59335/2396617037.py:2: DtypeWarning: Columns (0) have mixed types. Specify dtype option on import or set low_memory=False.\n",
      "  data : pd.DataFrame = pd.read_csv(similarity_path, sep='\\t')\n"
     ]
    },
    {
     "data": {
      "image/png": "[encoded data removed]",
      "text/plain": [
       "<Figure size 640x480 with 1 Axes>"
      ]
     },
     "metadata": {},
     "output_type": "display_data"
    }
   ],
   "source": [
    "similarity_df_list = [human_similarity, mouse_similarity, tilapia_similarity, trout_similarity]\n",
    "make_graph(similarity_df_list, gene2og, 100)"
   ]
  }
 ],
 "metadata": {
  "kernelspec": {
   "display_name": "Python 3",
   "language": "python",
   "name": "python3"
  },
  "language_info": {
   "codemirror_mode": {
    "name": "ipython",
    "version": 3
   },
   "file_extension": ".py",
   "mimetype": "text/x-python",
   "name": "python",
   "nbconvert_exporter": "python",
   "pygments_lexer": "ipython3",
   "version": "3.10.12"
  }
 },
 "nbformat": 4,
 "nbformat_minor": 2
}
